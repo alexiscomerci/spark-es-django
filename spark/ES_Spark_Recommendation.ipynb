{
 "cells": [
  {
   "cell_type": "code",
   "execution_count": 1,
   "metadata": {
    "ExecuteTime": {
     "end_time": "2020-09-04T07:06:34.224739Z",
     "start_time": "2020-09-04T07:06:30.172063Z"
    }
   },
   "outputs": [
    {
     "data": {
      "text/html": [
       "\n",
       "            <div>\n",
       "                <p><b>SparkSession - in-memory</b></p>\n",
       "                \n",
       "        <div>\n",
       "            <p><b>SparkContext</b></p>\n",
       "\n",
       "            <p><a href=\"http://22614b49c7c5:4040\">Spark UI</a></p>\n",
       "\n",
       "            <dl>\n",
       "              <dt>Version</dt>\n",
       "                <dd><code>v3.3.0</code></dd>\n",
       "              <dt>Master</dt>\n",
       "                <dd><code>local[*]</code></dd>\n",
       "              <dt>AppName</dt>\n",
       "                <dd><code>recommendation_system</code></dd>\n",
       "            </dl>\n",
       "        </div>\n",
       "        \n",
       "            </div>\n",
       "        "
      ],
      "text/plain": [
       "<pyspark.sql.session.SparkSession at 0x7f5bcc3a3760>"
      ]
     },
     "execution_count": 1,
     "metadata": {},
     "output_type": "execute_result"
    }
   ],
   "source": [
    "import os\n",
    "os.environ['PYSPARK_SUBMIT_ARGS'] = '--jars /home/jovyan/elasticsearch-spark-30_2.12-8.4.1.jar pyspark-shell'\n",
    "\n",
    "from pyspark.sql import *\n",
    "from pyspark.sql.functions import *\n",
    "spark = SparkSession.builder \\\n",
    "    .appName(\"recommendation_system\") \\\n",
    "    .config(\"spark.jars\", \"/home/jovyan/elasticsearch-spark-30_2.12-8.4.1.jar\") \\\n",
    "    .config(\"spark.es.nodes.wan.only\",\"true\") \\\n",
    "    .config(\"spark.es.nodes\",\"172.22.0.2\") \\\n",
    "    .config(\"spark.es.port\",\"9200\") \\\n",
    "    .getOrCreate()\n",
    "spark"
   ]
  },
  {
   "cell_type": "code",
   "execution_count": 2,
   "metadata": {
    "ExecuteTime": {
     "end_time": "2020-09-04T07:13:50.824295Z",
     "start_time": "2020-09-04T07:13:36.298346Z"
    }
   },
   "outputs": [
    {
     "data": {
      "text/html": [
       "<div>\n",
       "<style scoped>\n",
       "    .dataframe tbody tr th:only-of-type {\n",
       "        vertical-align: middle;\n",
       "    }\n",
       "\n",
       "    .dataframe tbody tr th {\n",
       "        vertical-align: top;\n",
       "    }\n",
       "\n",
       "    .dataframe thead th {\n",
       "        text-align: right;\n",
       "    }\n",
       "</style>\n",
       "<table border=\"1\" class=\"dataframe\">\n",
       "  <thead>\n",
       "    <tr style=\"text-align: right;\">\n",
       "      <th></th>\n",
       "      <th>asin</th>\n",
       "      <th>title</th>\n",
       "      <th>brand</th>\n",
       "      <th>category</th>\n",
       "      <th>main_category</th>\n",
       "      <th>image</th>\n",
       "    </tr>\n",
       "  </thead>\n",
       "  <tbody>\n",
       "    <tr>\n",
       "      <th>0</th>\n",
       "      <td>8792559360</td>\n",
       "      <td>The Cigar - Moments of Pleasure</td>\n",
       "      <td>The Cigar Book</td>\n",
       "      <td>[Appliances, Parts &amp;amp; Accessories]</td>\n",
       "      <td>Parts &amp;amp; Accessories</td>\n",
       "      <td>None</td>\n",
       "    </tr>\n",
       "  </tbody>\n",
       "</table>\n",
       "</div>"
      ],
      "text/plain": [
       "         asin                            title           brand  \\\n",
       "0  8792559360  The Cigar - Moments of Pleasure  The Cigar Book   \n",
       "\n",
       "                                category            main_category image  \n",
       "0  [Appliances, Parts &amp; Accessories]  Parts &amp; Accessories  None  "
      ]
     },
     "execution_count": 2,
     "metadata": {},
     "output_type": "execute_result"
    }
   ],
   "source": [
    "import gzip\n",
    "import json\n",
    "from pyspark.sql.types import *\n",
    "\n",
    "\n",
    "def parse(path):\n",
    "    g = gzip.open(path, 'rb')\n",
    "    for l in g:\n",
    "        yield json.loads(l)\n",
    "\n",
    "        \n",
    "def getMetaData(path):\n",
    "    data = []\n",
    "    data_schema =  [\n",
    "                       StructField(\"asin\", StringType(), True),\n",
    "                       StructField(\"title\", StringType(), True),\n",
    "                       StructField(\"brand\", StringType(), True),\n",
    "                       StructField(\"category\", ArrayType(StringType(), True), True),\n",
    "                       StructField(\"main_category\", StringType(), True),\n",
    "                       StructField(\"image\", ArrayType(StringType(), True), True)\n",
    "                   ]\n",
    "    final_schema = StructType(fields=data_schema)\n",
    "    for d in parse(path):\n",
    "        review = {}\n",
    "        review['asin'] = d['asin']\n",
    "        review['title'] = d['title']\n",
    "        review['brand'] = d['brand']\n",
    "        review['category'] = d['category']\n",
    "#         print(d['category'])\n",
    "        review['main_category'] = next(reversed(d['category']), None) if len(d['category'])!= 0 else ''\n",
    "    \n",
    "        #try:\n",
    "        #    review['image'] = d['image']\n",
    "        #except KeyError:\n",
    "        #    review['image'] = ['none']\n",
    "\n",
    "        data.append(review)\n",
    "#   print(df)\n",
    "    return spark.createDataFrame(data, schema=final_schema)\n",
    "\n",
    "product_data = getMetaData('./data/meta_Appliances.json.gz')\n",
    "product_data = product_data.dropDuplicates(['asin'])\n",
    "product_data.limit(1).toPandas()\n",
    "# product_data.printSchema()"
   ]
  },
  {
   "cell_type": "code",
   "execution_count": 3,
   "metadata": {
    "ExecuteTime": {
     "end_time": "2020-09-04T07:14:08.645512Z",
     "start_time": "2020-09-04T07:14:03.932571Z"
    }
   },
   "outputs": [
    {
     "name": "stdout",
     "output_type": "stream",
     "text": [
      "+--------------------+-----+\n",
      "|       main_category|count|\n",
      "+--------------------+-----+\n",
      "| Parts & Accessories| 4513|\n",
      "|Refrigerator Part...| 3733|\n",
      "|Washer Parts & Ac...| 2270|\n",
      "|Dishwasher Parts ...| 1790|\n",
      "|Range Parts & Acc...| 1710|\n",
      "|       Water Filters| 1572|\n",
      "|   Replacement Parts| 1556|\n",
      "|Cooktop Parts & A...| 1171|\n",
      "|         Range Hoods|  951|\n",
      "|Humidifier Parts ...|  887|\n",
      "|                    |  805|\n",
      "|       Refrigerators|  722|\n",
      "|Oven Parts & Acce...|  645|\n",
      "|          Ice Makers|  453|\n",
      "|            Cooktops|  436|\n",
      "| Freestanding Ranges|  412|\n",
      "|               Knobs|  406|\n",
      "|Freezer Parts & A...|  360|\n",
      "|Built-In Dishwashers|  357|\n",
      "|         Accessories|  341|\n",
      "|             Washers|  302|\n",
      "|                Bins|  273|\n",
      "|              Dryers|  253|\n",
      "|               Vents|  243|\n",
      "|Dryer Parts & Acc...|  235|\n",
      "|              Motors|  224|\n",
      "|             Filters|  213|\n",
      "|     Humidity Meters|  185|\n",
      "|   Replacement Wicks|  177|\n",
      "|Refrigerators, Fr...|  175|\n",
      "|Ranges, Ovens & C...|  169|\n",
      "|Range Hood Parts ...|  162|\n",
      "|           Drip Pans|  160|\n",
      "|             Shelves|  140|\n",
      "|Beverage Refriger...|  137|\n",
      "|             Burners|  130|\n",
      "|        Lint Screens|  123|\n",
      "|             Handles|  118|\n",
      "|   Single Wall Ovens|  108|\n",
      "|         Drain Pumps|  107|\n",
      "|               Hoses|   87|\n",
      "|             Baskets|   85|\n",
      "|          Kegerators|   84|\n",
      "|              Ranges|   83|\n",
      "|Food Waste Dispos...|   82|\n",
      "|   Double Wall Ovens|   80|\n",
      "|    Upright Freezers|   73|\n",
      "|Parts &amp; Acces...|   71|\n",
      "|         Dishwashers|   61|\n",
      "|     Slide-In Ranges|   60|\n",
      "|      Chest Freezers|   55|\n",
      "|           Fasteners|   53|\n",
      "|    Plug Receptacles|   52|\n",
      "|    Washers & Dryers|   38|\n",
      "|Trash Compactor P...|   34|\n",
      "|Portable & Counte...|   33|\n",
      "|   Specialty Laundry|   32|\n",
      "|        Burner Rings|   31|\n",
      "|               Doors|   30|\n",
      "|Humidifier Parts ...|   28|\n",
      "|All-in-One Combin...|   27|\n",
      "|  Absorption Sleeves|   25|\n",
      "|Range Parts &amp;...|   22|\n",
      "|            Freezers|   22|\n",
      "|Combination Micro...|   21|\n",
      "|           Chemicals|   21|\n",
      "|Garbage Disposals...|   18|\n",
      "|             Blowers|   18|\n",
      "|Refrigerator Part...|   18|\n",
      "|  Laundry Appliances|   17|\n",
      "|    Trash Compactors|   16|\n",
      "|          Wall Ovens|   16|\n",
      "|Stacked Washer & ...|   12|\n",
      "|Dishwasher Parts ...|   12|\n",
      "|Washer Parts &amp...|   10|\n",
      "|     Warming Drawers|   10|\n",
      "|Range Hood Parts ...|    9|\n",
      "|Wine Cellar Parts...|    8|\n",
      "|              Grills|    6|\n",
      "|Cooktop Parts &am...|    6|\n",
      "|        Exhaust Fans|    6|\n",
      "|Portable &amp; Co...|    5|\n",
      "|Oven Parts &amp; ...|    4|\n",
      "|Refrigerators, Fr...|    3|\n",
      "|Trash Compactor P...|    3|\n",
      "|Food Waste Dispos...|    3|\n",
      "|Dryer Parts &amp;...|    3|\n",
      "|Ranges, Ovens &am...|    2|\n",
      "|Freezer Parts &am...|    2|\n",
      "|Beverage Refriger...|    2|\n",
      "|      Drop-In Ranges|    2|\n",
      "|Frigidaire FFU17G...|    1|\n",
      "|         Color: Pink|    1|\n",
      "|Made in USA or Im...|    1|\n",
      "|Fringed trim make...|    1|\n",
      "|Garbage Disposals...|    1|\n",
      "|Perfect for a Bri...|    1|\n",
      "|Wine Cellar Parts...|    1|\n",
      "|There is no diffe...|    1|\n",
      "|Combination Micro...|    1|\n",
      "+--------------------+-----+\n",
      "only showing top 100 rows\n",
      "\n"
     ]
    }
   ],
   "source": [
    "product_data.groupBy(\"main_category\").count().orderBy(col('count').desc()).show(100)"
   ]
  },
  {
   "cell_type": "code",
   "execution_count": 4,
   "metadata": {
    "ExecuteTime": {
     "end_time": "2020-09-04T07:14:22.425243Z",
     "start_time": "2020-09-04T07:14:21.940316Z"
    }
   },
   "outputs": [
    {
     "data": {
      "text/plain": [
       "ObjectApiResponse({'name': '8d5e3008021d', 'cluster_name': 'docker-cluster', 'cluster_uuid': 'eoXjfjhuR5ifktX3ElvQsA', 'version': {'number': '8.4.1', 'build_flavor': 'default', 'build_type': 'docker', 'build_hash': '2bd229c8e56650b42e40992322a76e7914258f0c', 'build_date': '2022-08-26T12:11:43.232597118Z', 'build_snapshot': False, 'lucene_version': '9.3.0', 'minimum_wire_compatibility_version': '7.17.0', 'minimum_index_compatibility_version': '7.0.0'}, 'tagline': 'You Know, for Search'})"
      ]
     },
     "execution_count": 4,
     "metadata": {},
     "output_type": "execute_result"
    }
   ],
   "source": [
    "from elasticsearch import Elasticsearch\n",
    "\n",
    "# test your ES instance is running\n",
    "es = Elasticsearch('http://172.22.0.2:9200')\n",
    "es.info(pretty=True)"
   ]
  },
  {
   "cell_type": "code",
   "execution_count": 5,
   "metadata": {
    "ExecuteTime": {
     "end_time": "2020-09-04T07:14:41.430876Z",
     "start_time": "2020-09-04T07:14:39.262089Z"
    }
   },
   "outputs": [
    {
     "name": "stdout",
     "output_type": "stream",
     "text": [
      "Created indices:\n",
      "{'acknowledged': True, 'shards_acknowledged': True, 'index': 'products'}\n"
     ]
    }
   ],
   "source": [
    "if es.indices.exists(index=\"products\"):\n",
    "    es.indices.delete(index=\"products\")\n",
    "VECTOR_DIM = 25\n",
    "\n",
    "product_mapping = {\n",
    "    # this mapping definition sets up the metadata fields for the products\n",
    "    \"properties\": {\n",
    "        \"asin\": {\n",
    "            \"type\": \"keyword\"\n",
    "        },\n",
    "        \"title\": {\n",
    "            \"type\": \"keyword\"\n",
    "        },\n",
    "        \"image\": {\n",
    "            \"type\": \"keyword\"\n",
    "        },\n",
    "        \"brand\": {\n",
    "            \"type\": \"keyword\"\n",
    "        },\n",
    "        \"category\": {\n",
    "            \"type\": \"keyword\"\n",
    "        },\n",
    "        \"main_category\": {\n",
    "            \"type\": \"keyword\"\n",
    "        },\n",
    "        # the following fields define our model factor vectors and metadata\n",
    "        \"model_factor\": {\n",
    "            \"type\": \"dense_vector\",\n",
    "            \"dims\" : VECTOR_DIM\n",
    "        },\n",
    "        \"model_version\": {\n",
    "            \"type\": \"keyword\"\n",
    "        },\n",
    "        \"model_timestamp\": {\n",
    "            \"type\": \"date\"\n",
    "        }          \n",
    "    }\n",
    "}\n",
    "\n",
    "res_products = es.indices.create(index=\"products\", mappings=product_mapping)\n",
    "\n",
    "print(\"Created indices:\")\n",
    "print(res_products)"
   ]
  },
  {
   "cell_type": "code",
   "execution_count": 6,
   "metadata": {
    "ExecuteTime": {
     "end_time": "2020-09-04T07:15:11.769816Z",
     "start_time": "2020-09-04T07:15:11.731465Z"
    }
   },
   "outputs": [
    {
     "data": {
      "text/plain": [
       "0"
      ]
     },
     "execution_count": 6,
     "metadata": {},
     "output_type": "execute_result"
    }
   ],
   "source": [
    " es.count(index=\"products\")['count']"
   ]
  },
  {
   "cell_type": "code",
   "execution_count": 7,
   "metadata": {
    "ExecuteTime": {
     "end_time": "2020-09-04T07:15:06.668156Z",
     "start_time": "2020-09-04T07:14:51.497854Z"
    }
   },
   "outputs": [
    {
     "name": "stdout",
     "output_type": "stream",
     "text": [
      "Product DF count: 30239\n",
      "ES index count: 30239\n"
     ]
    }
   ],
   "source": [
    "product_data.write.format(\"es\").option(\"es.mapping.id\", \"asin\").save(\"products\")\n",
    "num_products_df = product_data.count()\n",
    "num_products_es = es.count(index=\"products\")['count']\n",
    "# check load went ok\n",
    "print(\"Product DF count: {}\".format(num_products_df))\n",
    "print(\"ES index count: {}\".format(num_products_es))"
   ]
  },
  {
   "cell_type": "code",
   "execution_count": 8,
   "metadata": {
    "ExecuteTime": {
     "end_time": "2020-09-03T05:00:53.827390Z",
     "start_time": "2020-09-03T05:00:53.721203Z"
    }
   },
   "outputs": [
    {
     "data": {
      "text/plain": [
       "ObjectApiResponse({'took': 43, 'timed_out': False, '_shards': {'total': 1, 'successful': 1, 'skipped': 0, 'failed': 0}, 'hits': {'total': {'value': 722, 'relation': 'eq'}, 'max_score': 3.7342029, 'hits': [{'_index': 'products', '_id': 'B000E846DA', '_score': 3.7342029, '_source': {'asin': 'B000E846DA', 'title': 'Fisher Paykel E522BLX 17.6 cu ft Bottom-Freezer Refrigerator - Stainless Steel with Left Hinge', 'brand': 'Fisher Paykel', 'category': ['Appliances', 'Refrigerators, Freezers & Ice Makers', 'Refrigerators'], 'main_category': 'Refrigerators'}}, {'_index': 'products', '_id': 'B000EMNKOC', '_score': 3.7342029, '_source': {'asin': 'B000EMNKOC', 'title': 'Frigidaire FRS6R5ESB 26 Cu. Ft. Side-by-Side Refrigerator (Stainless Steel)', 'brand': 'Frigidaire', 'category': ['Appliances', 'Refrigerators, Freezers & Ice Makers', 'Refrigerators'], 'main_category': 'Refrigerators'}}, {'_index': 'products', '_id': 'B000EPN8ZK', '_score': 3.7342029, '_source': {'asin': 'B000EPN8ZK', 'title': '4.6 Cu. Ft. Stainless Steel Refrigerator', 'brand': 'Igloo', 'category': ['Appliances', 'Refrigerators, Freezers & Ice Makers', 'Refrigerators'], 'main_category': 'Refrigerators'}}]}})"
      ]
     },
     "execution_count": 8,
     "metadata": {},
     "output_type": "execute_result"
    }
   ],
   "source": [
    "es.search(index=\"products\", q=\"main_category:Refrigerators\", size=3)"
   ]
  },
  {
   "cell_type": "code",
   "execution_count": 9,
   "metadata": {
    "ExecuteTime": {
     "end_time": "2020-09-03T08:46:26.653800Z",
     "start_time": "2020-09-03T08:46:15.332596Z"
    }
   },
   "outputs": [
    {
     "data": {
      "text/html": [
       "<div>\n",
       "<style scoped>\n",
       "    .dataframe tbody tr th:only-of-type {\n",
       "        vertical-align: middle;\n",
       "    }\n",
       "\n",
       "    .dataframe tbody tr th {\n",
       "        vertical-align: top;\n",
       "    }\n",
       "\n",
       "    .dataframe thead th {\n",
       "        text-align: right;\n",
       "    }\n",
       "</style>\n",
       "<table border=\"1\" class=\"dataframe\">\n",
       "  <thead>\n",
       "    <tr style=\"text-align: right;\">\n",
       "      <th></th>\n",
       "      <th>asin</th>\n",
       "      <th>reviewerId</th>\n",
       "      <th>rating</th>\n",
       "    </tr>\n",
       "  </thead>\n",
       "  <tbody>\n",
       "    <tr>\n",
       "      <th>0</th>\n",
       "      <td>1118461304</td>\n",
       "      <td>A3NHUQ33CFH3VM</td>\n",
       "      <td>5.0</td>\n",
       "    </tr>\n",
       "    <tr>\n",
       "      <th>1</th>\n",
       "      <td>1118461304</td>\n",
       "      <td>A3SK6VNBQDNBJE</td>\n",
       "      <td>5.0</td>\n",
       "    </tr>\n",
       "    <tr>\n",
       "      <th>2</th>\n",
       "      <td>1118461304</td>\n",
       "      <td>A3SOFHUR27FO3K</td>\n",
       "      <td>5.0</td>\n",
       "    </tr>\n",
       "  </tbody>\n",
       "</table>\n",
       "</div>"
      ],
      "text/plain": [
       "         asin      reviewerId  rating\n",
       "0  1118461304  A3NHUQ33CFH3VM     5.0\n",
       "1  1118461304  A3SK6VNBQDNBJE     5.0\n",
       "2  1118461304  A3SOFHUR27FO3K     5.0"
      ]
     },
     "execution_count": 9,
     "metadata": {},
     "output_type": "execute_result"
    }
   ],
   "source": [
    "def getRatingData(path):\n",
    "    data = []\n",
    "    data_schema = [\n",
    "               StructField(\"asin\", StringType(), True),\n",
    "               StructField(\"reviewerId\", StringType(), True),\n",
    "               StructField(\"rating\", FloatType(), True)]\n",
    "    final_schema = StructType(fields=data_schema)\n",
    "    for d in parse(path):\n",
    "        review = {}\n",
    "        review['asin'] = d['asin']\n",
    "        review['reviewerId'] = d['reviewerID']\n",
    "        review['rating'] = d['overall']\n",
    "        data.append(review)\n",
    "#   print(df)\n",
    "    return spark.createDataFrame(data, schema=final_schema)\n",
    "\n",
    "df_rating= getRatingData('./data/Appliances.json.gz')\n",
    "df_rating.limit(3).toPandas()"
   ]
  },
  {
   "cell_type": "code",
   "execution_count": 10,
   "metadata": {
    "ExecuteTime": {
     "end_time": "2020-09-03T05:02:33.402752Z",
     "start_time": "2020-09-03T05:02:22.532653Z"
    }
   },
   "outputs": [
    {
     "name": "stdout",
     "output_type": "stream",
     "text": [
      "+----------+--------------+------+----------------+----------+\n",
      "|      asin|    reviewerId|rating|reviewerId_index|asin_index|\n",
      "+----------+--------------+------+----------------+----------+\n",
      "|1118461304|A3NHUQ33CFH3VM|   5.0|           118.0|    2229.0|\n",
      "|1118461304|A3SK6VNBQDNBJE|   5.0|        396610.0|    2229.0|\n",
      "|1118461304|A3SOFHUR27FO3K|   5.0|        397010.0|    2229.0|\n",
      "|1118461304|A1HOG1PYCAE157|   5.0|        122436.0|    2229.0|\n",
      "|1118461304|A26JGAM6GZMM4V|   5.0|        204413.0|    2229.0|\n",
      "|1118461304|A17K8WANMYHTX2|   5.0|         88869.0|    2229.0|\n",
      "|1118461304|A13IW3A6W43U0G|   5.0|         75566.0|    2229.0|\n",
      "|1118461304|A1ECEGG1MP7J8J|   5.0|        111423.0|    2229.0|\n",
      "|1118461304|A2D5X9G9S3A7RN|   5.0|        226519.0|    2229.0|\n",
      "|1118461304| AP2F86JFRQ205|   5.0|        479108.0|    2229.0|\n",
      "|1118461304|A3VF3A5A3O04E1|   4.0|        406281.0|    2229.0|\n",
      "|1118461304|A14DW5UMQ1M96O|   5.0|         78358.0|    2229.0|\n",
      "|1118461304|A2V7UVKOFG57IW|   4.0|        286083.0|    2229.0|\n",
      "|1118461304|A2BM5NTLX7CES1|   4.0|        221364.0|    2229.0|\n",
      "|1118461304|A1EQ5D5JRSW23K|   5.0|         18788.0|    2229.0|\n",
      "|1118461304|A1R2JUOGIYH6HO|   4.0|        153501.0|    2229.0|\n",
      "|1118461304|A3JRW716H3AX14|   5.0|        367548.0|    2229.0|\n",
      "|1118461304|A3KGLXW3EYDTUH|   4.0|        369747.0|    2229.0|\n",
      "|1118461304|A1B70ZEWQ6UH1A|   3.0|        101029.0|    2229.0|\n",
      "|1118461304|A2I5QME4S7CLFI|   5.0|        243117.0|    2229.0|\n",
      "+----------+--------------+------+----------------+----------+\n",
      "only showing top 20 rows\n",
      "\n"
     ]
    }
   ],
   "source": [
    "from pyspark.ml.evaluation import RegressionEvaluator\n",
    "from pyspark.ml.recommendation import ALS\n",
    "\n",
    "from pyspark.ml.feature import StringIndexer\n",
    "from pyspark.ml import Pipeline\n",
    "from pyspark.sql.functions import col\n",
    "\n",
    "indexer = [StringIndexer(inputCol=column, outputCol=column+\"_index\") for column in list(set(df_rating.columns)-set(['rating'])) ]\n",
    "pipeline = Pipeline(stages=indexer)\n",
    "transformed = pipeline.fit(df_rating).transform(df_rating)\n",
    "transformed.show()"
   ]
  },
  {
   "cell_type": "code",
   "execution_count": 11,
   "metadata": {
    "ExecuteTime": {
     "end_time": "2020-09-03T05:04:03.938337Z",
     "start_time": "2020-09-03T05:02:37.654000Z"
    }
   },
   "outputs": [],
   "source": [
    "als=ALS(maxIter=5,regParam=0.09,rank=25,userCol=\"reviewerId_index\",itemCol=\"asin_index\",ratingCol=\"rating\",coldStartStrategy=\"drop\",nonnegative=True)\n",
    "model=als.fit(transformed)"
   ]
  },
  {
   "cell_type": "code",
   "execution_count": 12,
   "metadata": {
    "ExecuteTime": {
     "end_time": "2020-09-02T14:43:50.849997Z",
     "start_time": "2020-09-02T14:43:45.509579Z"
    }
   },
   "outputs": [
    {
     "data": {
      "text/plain": [
       "30252"
      ]
     },
     "execution_count": 12,
     "metadata": {},
     "output_type": "execute_result"
    }
   ],
   "source": [
    "model.itemFactors.count()"
   ]
  },
  {
   "cell_type": "code",
   "execution_count": 13,
   "metadata": {
    "ExecuteTime": {
     "end_time": "2020-09-02T12:55:22.448890Z",
     "start_time": "2020-09-02T12:55:18.289025Z"
    }
   },
   "outputs": [
    {
     "name": "stdout",
     "output_type": "stream",
     "text": [
      "RMSE=0.2029201610101436\n",
      "+----------+--------------+------+----------------+----------+----------+\n",
      "|      asin|    reviewerId|rating|reviewerId_index|asin_index|prediction|\n",
      "+----------+--------------+------+----------------+----------+----------+\n",
      "|B005AR7B0U|A2SEK167AI6DZM|   5.0|            17.0|     833.0|  4.786325|\n",
      "|B00Y1RCAEW|A2UEH0U5CV3053|   5.0|            43.0|   18654.0| 4.7185335|\n",
      "|B005AR7B0U|A11MR9NLWY2TCB|   5.0|            44.0|     833.0|  4.931913|\n",
      "|B01GC1087U|A1P5WN345EBHDJ|   5.0|            48.0|    3918.0|  4.739944|\n",
      "|B005BNMVEY|A2ZXGRVD55NQ5T|   5.0|            91.0|     463.0|  4.286341|\n",
      "|B005BNMVEY|A2KSW3CSIMJ3AT|   5.0|           139.0|     463.0|   4.32248|\n",
      "|B003ZB3TTA|A2M0K9OMYO81IY|   1.0|           140.0|   15846.0| 1.0170279|\n",
      "|B00OMR0AXY|A3CIEPFEOAKP4T|   5.0|           339.0|     496.0| 4.5304193|\n",
      "|B004XLE0I0|A3P9GXL2BDXKQF|   4.0|           358.0|    1580.0| 3.9781501|\n",
      "|B005AR7B0U|A3TAF3L8D5QEBY|   4.0|           368.0|     833.0| 3.9198346|\n",
      "|B00L4GDO34| AR8AC8KLBQJVT|   5.0|           406.0|    2142.0| 5.0419707|\n",
      "|B0043RMEAA| AYM76JWI220Z4|   5.0|           415.0|    5518.0| 4.9067807|\n",
      "|B0063KCFK4|A11D9WMYB2BRKU|   1.0|           423.0|   11317.0| 1.2268019|\n",
      "|B00DM8L19G|A1O9NZGJ606Q7O|   5.0|           485.0|    2659.0|  5.004114|\n",
      "|B01C224FRM|A1Q0RDBY0297X1|   4.0|           491.0|    1959.0| 3.9729772|\n",
      "|B0053F9LCK| AG22IH3IG1HIY|   5.0|           677.0|     471.0| 4.9576344|\n",
      "|B003RA3OU8|A1PV46YFAH4FWJ|   5.0|           886.0|    5803.0| 5.1136656|\n",
      "|B00OMR0AXY|A1SYMH8YEJ8JLH|   1.0|           914.0|     496.0| 1.1748393|\n",
      "|B00L4GDO34|A347YYQI2YXNK2|   5.0|          1212.0|    2142.0| 5.0913525|\n",
      "|B00TQZBKRM|A3ARKFY7ZMN47C|   1.0|          1250.0|   14450.0| 0.9899591|\n",
      "+----------+--------------+------+----------------+----------+----------+\n",
      "only showing top 20 rows\n",
      "\n"
     ]
    }
   ],
   "source": [
    "evaluator=RegressionEvaluator(metricName=\"rmse\",labelCol=\"rating\",predictionCol=\"prediction\")\n",
    "predictions=model.transform(transformed)\n",
    "rmse=evaluator.evaluate(predictions)\n",
    "print(\"RMSE=\"+str(rmse))\n",
    "predictions.show()"
   ]
  },
  {
   "cell_type": "code",
   "execution_count": 14,
   "metadata": {
    "ExecuteTime": {
     "end_time": "2020-09-03T05:06:03.533982Z",
     "start_time": "2020-09-03T05:06:02.368840Z"
    }
   },
   "outputs": [
    {
     "name": "stdout",
     "output_type": "stream",
     "text": [
      "+---+--------------------+----------------+---------------+\n",
      "| id|        model_factor|   model_version|model_timestamp|\n",
      "+---+--------------------+----------------+---------------+\n",
      "|  0|[0.29134184, 0.27...|ALS_d0e9b000de29|     1663287881|\n",
      "| 10|[1.7965407, 0.392...|ALS_d0e9b000de29|     1663287881|\n",
      "+---+--------------------+----------------+---------------+\n",
      "only showing top 2 rows\n",
      "\n"
     ]
    }
   ],
   "source": [
    "from pyspark.sql.functions import lit, current_timestamp, unix_timestamp\n",
    "ver = model.uid\n",
    "ts = unix_timestamp(current_timestamp())\n",
    "product_vectors = model.itemFactors.select(\"id\",\\\n",
    "                                         col(\"features\").alias(\"model_factor\"),\\\n",
    "                                         lit(ver).alias(\"model_version\"),\\\n",
    "                                         ts.alias(\"model_timestamp\"))\n",
    "product_vectors.show(2)"
   ]
  },
  {
   "cell_type": "code",
   "execution_count": 15,
   "metadata": {
    "ExecuteTime": {
     "end_time": "2020-09-03T05:06:12.248600Z",
     "start_time": "2020-09-03T05:06:07.772888Z"
    }
   },
   "outputs": [
    {
     "name": "stdout",
     "output_type": "stream",
     "text": [
      "+--------------------+----------------+---------------+----------+\n",
      "|        model_factor|   model_version|model_timestamp|      asin|\n",
      "+--------------------+----------------+---------------+----------+\n",
      "|[0.29134184, 0.27...|ALS_d0e9b000de29|     1663287885|B000AST3AK|\n",
      "|[1.7965407, 0.392...|ALS_d0e9b000de29|     1663287885|B0006GVNOA|\n",
      "|[0.5861694, 0.073...|ALS_d0e9b000de29|     1663287885|B01CTNA1VI|\n",
      "|[0.40666553, 0.03...|ALS_d0e9b000de29|     1663287885|B00126NABC|\n",
      "|[0.12317319, 0.34...|ALS_d0e9b000de29|     1663287885|B00UB441HS|\n",
      "|[0.2624271, 0.149...|ALS_d0e9b000de29|     1663287885|B0042U16YI|\n",
      "|[0.20160528, 0.01...|ALS_d0e9b000de29|     1663287885|B00W0W8LMK|\n",
      "|[0.16788186, 0.06...|ALS_d0e9b000de29|     1663287885|B004XLDE5A|\n",
      "|[0.017832814, 0.4...|ALS_d0e9b000de29|     1663287885|B00W0WXHCO|\n",
      "|[0.23772983, 0.14...|ALS_d0e9b000de29|     1663287885|B00NIZ0DV0|\n",
      "+--------------------+----------------+---------------+----------+\n",
      "only showing top 10 rows\n",
      "\n"
     ]
    }
   ],
   "source": [
    "asin_index_meta = [\n",
    "    f.metadata for f in transformed.schema.fields if f.name == \"asin_index\"]\n",
    "asin_index_labels = asin_index_meta[0][\"ml_attr\"][\"vals\"]\n",
    "\n",
    "from pyspark.ml.feature import IndexToString\n",
    "\n",
    "reviewerId_converter = IndexToString(inputCol=\"id\", outputCol=\"asin\",   labels=asin_index_labels)\n",
    "PredictedLabels = reviewerId_converter.transform(product_vectors)\n",
    "PredictedLabels = PredictedLabels.drop('id')\n",
    "PredictedLabels.show(10)"
   ]
  },
  {
   "cell_type": "code",
   "execution_count": 16,
   "metadata": {
    "ExecuteTime": {
     "end_time": "2020-09-02T13:27:48.684217Z",
     "start_time": "2020-09-02T13:27:44.080838Z"
    }
   },
   "outputs": [
    {
     "data": {
      "text/plain": [
       "30252"
      ]
     },
     "execution_count": 16,
     "metadata": {},
     "output_type": "execute_result"
    }
   ],
   "source": [
    "PredictedLabels.count()"
   ]
  },
  {
   "cell_type": "code",
   "execution_count": 17,
   "metadata": {
    "ExecuteTime": {
     "end_time": "2020-09-03T05:07:46.987512Z",
     "start_time": "2020-09-03T05:07:33.971761Z"
    }
   },
   "outputs": [],
   "source": [
    "PredictedLabels.write.format(\"es\") \\\n",
    "    .option(\"es.mapping.id\", \"asin\") \\\n",
    "    .option(\"es.write.operation\", \"upsert\") \\\n",
    "    .save(\"products\", mode=\"append\")"
   ]
  }
 ],
 "metadata": {
  "kernelspec": {
   "display_name": "Python 3 (ipykernel)",
   "language": "python",
   "name": "python3"
  },
  "language_info": {
   "codemirror_mode": {
    "name": "ipython",
    "version": 3
   },
   "file_extension": ".py",
   "mimetype": "text/x-python",
   "name": "python",
   "nbconvert_exporter": "python",
   "pygments_lexer": "ipython3",
   "version": "3.10.6"
  },
  "varInspector": {
   "cols": {
    "lenName": 16,
    "lenType": 16,
    "lenVar": 40
   },
   "kernels_config": {
    "python": {
     "delete_cmd_postfix": "",
     "delete_cmd_prefix": "del ",
     "library": "var_list.py",
     "varRefreshCmd": "print(var_dic_list())"
    },
    "r": {
     "delete_cmd_postfix": ") ",
     "delete_cmd_prefix": "rm(",
     "library": "var_list.r",
     "varRefreshCmd": "cat(var_dic_list()) "
    }
   },
   "types_to_exclude": [
    "module",
    "function",
    "builtin_function_or_method",
    "instance",
    "_Feature"
   ],
   "window_display": false
  },
  "vscode": {
   "interpreter": {
    "hash": "301a17a29b57d3836b7901af1621afd6d2b1f2298b9c7949191147cf2fea93e3"
   }
  }
 },
 "nbformat": 4,
 "nbformat_minor": 4
}
